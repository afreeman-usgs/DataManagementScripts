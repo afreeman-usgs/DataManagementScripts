{
 "cells": [
  {
   "cell_type": "code",
   "execution_count": null,
   "metadata": {},
   "outputs": [],
   "source": [
    "import os\n",
    "import glob\n",
    "import shutil\n",
    "import pandas as pd\n",
    "\n",
    "import pymdwizard\n",
    "from pymdwizard.core import xml_utils\n",
    "from pymdwizard.core.xml_utils import xml_node\n",
    "from pymdwizard.core import spatial_utils"
   ]
  },
  {
   "cell_type": "code",
   "execution_count": null,
   "metadata": {},
   "outputs": [],
   "source": [
    "## Metadata record to be edited\n",
    "md_fname = <<path to metadata file>>\n",
    "## A crosswalk table to get from the attribute label to the full scientific name that will be appended \n",
    "## to the Attribute Description element\n",
    "fname = <<path to crosswalk table>>"
   ]
  },
  {
   "cell_type": "code",
   "execution_count": null,
   "metadata": {},
   "outputs": [],
   "source": [
    "## Read in the crosswalk table to a pandas dataframe\n",
    "lookup_df = pd.read_excel(fname, \"Sheet1\")\n",
    "lookup_df"
   ]
  },
  {
   "cell_type": "code",
   "execution_count": null,
   "metadata": {},
   "outputs": [],
   "source": [
    "## A lookup function that extracts the scientific name from the crosswalk table\n",
    "code = 'ACERCIR'\n",
    "def lookup(code):\n",
    "    return lookup_df.loc[lookup_df['Code'] == code, 'Scientific name'].iloc[0]\n",
    "lookup(code)\n"
   ]
  },
  {
   "cell_type": "code",
   "execution_count": null,
   "metadata": {
    "scrolled": false
   },
   "outputs": [],
   "source": [
    "## The root node of our metadata record \n",
    "md = xml_utils.fname_to_node(md_fname)\n",
    "## A list of the 'attr' nodes in our metadata record\n",
    "attr_list = md.xpath('eainfo/detailed/attr')"
   ]
  },
  {
   "cell_type": "code",
   "execution_count": null,
   "metadata": {},
   "outputs": [],
   "source": [
    "## The text string that is constant throughout the applicable attribute definitions\n",
    "attrdef_text = \"Percent living cover in plot of\""
   ]
  },
  {
   "cell_type": "code",
   "execution_count": null,
   "metadata": {},
   "outputs": [],
   "source": [
    "rdom = attr.xpath('attrdomv/rdom')\n",
    "rdom"
   ]
  },
  {
   "cell_type": "code",
   "execution_count": null,
   "metadata": {},
   "outputs": [],
   "source": [
    "## Loop through all applicable attributes (starting in position 3 in this case), replacing the values in Attribute Definition\n",
    "## with the text from 'attrdef_text' concatenated with the scientific names looked up from the crosswalk table.\n",
    "## Add the Attribute Units of Measure element for each attribute and populate with 'Percent'.\n",
    "for attr in attr_list[3:]:\n",
    "    attrlabl_list = attr.xpath('attrlabl')\n",
    "    attrlabl_node = attr.xpath('attrlabl')[0]\n",
    "    attrlabl = attrlabl_node.text\n",
    "    print (attrlabl)\n",
    "    sciname = lookup(attrlabl)\n",
    "    \n",
    "    attrdef = attr.xpath('attrdef')[0]\n",
    "    new_attrdef = attrdef_text  + \" \" + sciname\n",
    "    attrdef.text = new_attrdef\n",
    "    \n",
    "    rdom = attr.xpath('attrdomv/rdom')[0]\n",
    "    attrunit = xml_node('attrunit', 'Percent', rdom)"
   ]
  },
  {
   "cell_type": "code",
   "execution_count": null,
   "metadata": {},
   "outputs": [],
   "source": [
    "## Save out an XML document\n",
    "xml_utils.save_to_file(md, <<path to saved metadata file>>)"
   ]
  }
 ],
 "metadata": {
  "anaconda-cloud": {},
  "kernelspec": {
   "display_name": "Python 3",
   "language": "python",
   "name": "python3"
  },
  "language_info": {
   "codemirror_mode": {
    "name": "ipython",
    "version": 3
   },
   "file_extension": ".py",
   "mimetype": "text/x-python",
   "name": "python",
   "nbconvert_exporter": "python",
   "pygments_lexer": "ipython3",
   "version": "3.5.2"
  }
 },
 "nbformat": 4,
 "nbformat_minor": 1
}
