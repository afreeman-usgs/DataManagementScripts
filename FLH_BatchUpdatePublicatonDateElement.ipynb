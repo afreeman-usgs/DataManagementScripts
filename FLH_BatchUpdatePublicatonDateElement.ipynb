{
 "cells": [
  {
   "cell_type": "markdown",
   "metadata": {},
   "source": [
    "## A script that batch updates the publication date and time period information date elements of metadata records contained in several subdirectories."
   ]
  },
  {
   "cell_type": "code",
   "execution_count": null,
   "metadata": {},
   "outputs": [],
   "source": [
    "import glob\n",
    "\n",
    "from pymdwizard.core.xml_utils import XMLRecord"
   ]
  },
  {
   "cell_type": "code",
   "execution_count": null,
   "metadata": {},
   "outputs": [],
   "source": [
    "# Get a list of all XMLs that we need to work on, while ignoring subdirectories containing old xml files. \n",
    "xmls = [xml for xml in glob.glob(r'C:\\AARON\\FLH_Metadata\\**\\*.xml', recursive=True) if xml.find('Extra')]"
   ]
  },
  {
   "cell_type": "code",
   "execution_count": null,
   "metadata": {},
   "outputs": [],
   "source": [
    "# Update publication date and time period date for all metadata records.\n",
    "pubdate = \"2018\"\n",
    "for fl in xmls:\n",
    "    print(fl)\n",
    "    metd=XMLRecord(fl)\n",
    "    metd.metadata.idinfo.citation.citeinfo.pubdate.text = pubdate\n",
    "    metd.metadata.idinfo.timeperd.timeinfo.sngdate.caldate.text = pubdate\n",
    "    metd.save(fl)"
   ]
  }
 ],
 "metadata": {
  "anaconda-cloud": {},
  "kernelspec": {
   "display_name": "Python 3",
   "language": "python",
   "name": "python3"
  },
  "language_info": {
   "codemirror_mode": {
    "name": "ipython",
    "version": 3
   },
   "file_extension": ".py",
   "mimetype": "text/x-python",
   "name": "python",
   "nbconvert_exporter": "python",
   "pygments_lexer": "ipython3",
   "version": "3.5.2"
  }
 },
 "nbformat": 4,
 "nbformat_minor": 1
}
