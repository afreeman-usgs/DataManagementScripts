{
 "cells": [
  {
   "cell_type": "markdown",
   "metadata": {},
   "source": [
    "## Batch Updating a list of metadata records "
   ]
  },
  {
   "cell_type": "code",
   "execution_count": null,
   "metadata": {},
   "outputs": [],
   "source": [
    "import glob\n",
    "import pandas as pd\n",
    "from lxml import etree\n",
    "import sys\n",
    "import os\n",
    "from pymdwizard.core.xml_utils import XMLRecord, XMLNode #import in this manner requires adding a path file to your site-packages directory"
   ]
  },
  {
   "cell_type": "markdown",
   "metadata": {},
   "source": [
    "** List the existing XML files you wish to edit **"
   ]
  },
  {
   "cell_type": "code",
   "execution_count": null,
   "metadata": {
    "scrolled": true
   },
   "outputs": [],
   "source": [
    "#folder with xml metadata\n",
    "data_folder = r\"<<path to the folder in which the metadata records are stored\"\n",
    "\n",
    "os.chdir(data_folder)\n",
    "data_xml_pattern = \"**/*.xml\"\n",
    "data_xmls = glob.glob(data_xml_pattern, recursive=True)\n",
    "data_md = [m for m in data_xmls if not m.endswith(\"aux.xml\")]\n",
    "all_md = [d for d in data_xmls if not d.startswith(\"DDP\") and data_xmls if not d.startswith(\"Resources\")\n",
    "     and data_xmls if not d.startswith(\"SGPV2\") and data_xmls if not d.endswith(\"aux.xml\")]\n",
    "all_md"
   ]
  },
  {
   "cell_type": "markdown",
   "metadata": {},
   "source": [
    "** Updates (3/8/18) **"
   ]
  },
  {
   "cell_type": "code",
   "execution_count": null,
   "metadata": {},
   "outputs": [],
   "source": [
    "pubdate = \"2018\" #set date as you wish it to appear in publication node\n",
    "title = \"Southern Great Plains Rapid Ecoregional Assessment Volume II: Species and Assemblages\"\n",
    "purpose = \"This dataset was generated for the Bureau of Land Management (BLM) Southern Great Plains Rapid Ecoregional Assessment (REA). The geospatial data sets provide information that can be used to facilitate land-use planning at multiple scales and to prioritize areas for conservation, restoration, and development within the Southern Great Plains ecoregion project area. The geospatial data sets provide an assessment of baseline ecological conditions, an evaluation of current risks from natural and anthropogenic drivers of ecosystem change, and a predictive capacity for evaluating future risks. The Southern Great Plains REA Volume II: Species and Assemblages provides additional background information, methods, and key findings relevant to interpretation and use of the Southern Great Plains REA geospatial products. Consult metadata below for more detailed documentation on individual data products.\"\n",
    "supplemental = \"Geospatial data sets for the Southern Great Plains REA spatially quantify explicit cumulative effects and provide a broad-scale ecological context for decision-making and planning that cannot be determined using local-level information. For additional information on the REA see the Southern Great Plains REA Volume II: Species and Assemblages. \"\n",
    "constraints = \"None. These data are considered public domain.\"\n",
    "planar = \"row and column\"\n",
    "date = \"20180308\"\n",
    "\n",
    "for fl in all_md:\n",
    "    md = XMLRecord(fl)\n",
    "    md.metadata.idinfo.citation.citeinfo.pubdate.text=pubdate\n",
    "    md.metadata.idinfo.citation.citeinfo.lworkcit.citeinfo.pubdate.text=pubdate\n",
    "    md.metadata.idinfo.citation.citeinfo.lworkcit.citeinfo.title.text = title\n",
    "    md.metadata.idinfo.descript.purpose.text = purpose\n",
    "    md.metadata.idinfo.descript.supplinf.text = supplemental\n",
    "    md.metadata.idinfo.accconst.text = constraints\n",
    "    md.metadata.idinfo.useconst.text = constraints\n",
    "    md.metadata.spref.horizsys.planar.planci.plance.text = planar\n",
    "    md.metadata.metainfo.metd.text = date\n",
    "\n",
    "    sngdate = XMLNode(tag=\"sngdate\")\n",
    "    XMLNode(tag=\"caldate\", text='2018', parent_node=sngdate)\n",
    "    md.metadata.idinfo.timeperd.timeinfo.replace_child(sngdate, tag=\"rngdates\")\n",
    "    md.metadata.idinfo.timeperd.timeinfo\n",
    "\n",
    "    md.save()"
   ]
  },
  {
   "cell_type": "markdown",
   "metadata": {},
   "source": [
    "** Updates 4/19/18 - Supplemental Information, Distribution Information **"
   ]
  },
  {
   "cell_type": "code",
   "execution_count": null,
   "metadata": {},
   "outputs": [],
   "source": [
    "supplemental = \"Geospatial data sets for the Southern Great Plains REA spatially quantify explicit cumulative effects and provide a broad-scale ecological context for decision-making and planning that cannot be determined using local-level information. For additional information on the REA see the Southern Great Plains REA Volume II: Species and Assemblages. \"\n",
    "date = \"20180419\"\n",
    "\n",
    "distrib_str = \"\"\"<distinfo>\n",
    "    <distrib>\n",
    "      <cntinfo>\n",
    "        <cntorgp>\n",
    "          <cntorg>Bureau of Land Management</cntorg>\n",
    "        </cntorgp>\n",
    "        <cntpos>Resource Programs Data Coordinator, OC-530</cntpos>\n",
    "        <cntaddr>\n",
    "          <addrtype>mailing and physical address</addrtype>\n",
    "          <address>Building 50, Denver Federal Center</address>\n",
    "          <address>P.O. Box 25047</address>\n",
    "          <city>Denver</city>\n",
    "          <state>Colorado</state>\n",
    "          <postal>80225-0047</postal>\n",
    "          <country>USA</country>\n",
    "        </cntaddr>\n",
    "        <cntvoice>Please email</cntvoice>\n",
    "        <cntemail>blm_oc_rea_data_portal_feedback_team@blm.gov</cntemail>\n",
    "      </cntinfo>\n",
    "    </distrib>\n",
    "    <distliab>Distributor assumes no liability for misuse of data.</distliab>\n",
    "    <stdorder>\n",
    "      <digform>\n",
    "        <digtinfo>\n",
    "          <formname>Digital Data</formname>\n",
    "        </digtinfo>\n",
    "        <digtopt>\n",
    "          <onlinopt>\n",
    "            <computer>\n",
    "              <networka>\n",
    "                <networkr></networkr>\n",
    "              </networka>\n",
    "            </computer>\n",
    "          </onlinopt>\n",
    "        </digtopt>\n",
    "      </digform>\n",
    "      <fees>None. No fees are applicable for obtaining the data set.</fees>\n",
    "    </stdorder>\n",
    "  </distinfo>\"\"\"\n",
    "\n",
    "new_metainfo = XMLNode(distrib_str)\n",
    "\n",
    "for fl in all_md[1:]:\n",
    "    print(fl)\n",
    "    md = XMLRecord(fl)\n",
    "    md.metadata.idinfo.descript.supplinf.text = supplemental\n",
    "    md.metadata.metainfo.metd.text = date\n",
    "    \n",
    "    md.metadata.clear_children('distinfo')\n",
    "    md.metadata.add_child(new_metainfo, index=-2)\n",
    "    \n",
    "    md.save()"
   ]
  }
 ],
 "metadata": {
  "kernelspec": {
   "display_name": "Python 3",
   "language": "python",
   "name": "python3"
  },
  "language_info": {
   "codemirror_mode": {
    "name": "ipython",
    "version": 3
   },
   "file_extension": ".py",
   "mimetype": "text/x-python",
   "name": "python",
   "nbconvert_exporter": "python",
   "pygments_lexer": "ipython3",
   "version": "3.5.2"
  }
 },
 "nbformat": 4,
 "nbformat_minor": 2
}
