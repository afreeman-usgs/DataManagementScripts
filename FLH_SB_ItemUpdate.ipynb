{
 "cells": [
  {
   "cell_type": "markdown",
   "metadata": {},
   "source": [
    "### Update children of a ScienceBase item"
   ]
  },
  {
   "cell_type": "code",
   "execution_count": null,
   "metadata": {},
   "outputs": [],
   "source": [
    "import pysb\n",
    "import getpass"
   ]
  },
  {
   "cell_type": "code",
   "execution_count": null,
   "metadata": {},
   "outputs": [],
   "source": [
    "# Get the username and password we'll be using.\n",
    "# Enter your Active Directory username here if it's different that your current user name.\n",
    "username = getpass.getuser() + '@contractor.usgs.gov' \n",
    "password = getpass.getpass()\n",
    "# Output of this cell is a prompt to enter your Active Directory password."
   ]
  },
  {
   "cell_type": "code",
   "execution_count": null,
   "metadata": {},
   "outputs": [],
   "source": [
    "# Log in to ScienceBase.\n",
    "sb = pysb.SbSession()\n",
    "sb.login(username, password)"
   ]
  },
  {
   "cell_type": "code",
   "execution_count": null,
   "metadata": {},
   "outputs": [],
   "source": [
    "# Get json of the parent ScienceBase item.\n",
    "item_id = '57bddf65e4b03fd6b7df58a4' # Insert SB ID of existing item \n",
    "item_json = sb.get_item(item_id)"
   ]
  },
  {
   "cell_type": "code",
   "execution_count": null,
   "metadata": {},
   "outputs": [],
   "source": [
    "# Get a list of child items.\n",
    "child_list = sb.get_child_ids(item_id)\n",
    "# Get the citation from the parent item.\n",
    "citation = item_json['citation']"
   ]
  },
  {
   "cell_type": "code",
   "execution_count": null,
   "metadata": {},
   "outputs": [],
   "source": [
    "# Make item updates.\n",
    "for child in child_list:\n",
    "    ch_item = sb.get_item(child)\n",
    "    ch_item['citation'] = citation # The citation needs to be the same across all items of a data release.\n",
    "    ch_item['webLinks'] = [] # Strips out erroneous \n",
    "    ch_item = sb.update_item(ch_item)"
   ]
  }
 ],
 "metadata": {
  "anaconda-cloud": {},
  "kernelspec": {
   "display_name": "Python 3",
   "language": "python",
   "name": "python3"
  },
  "language_info": {
   "codemirror_mode": {
    "name": "ipython",
    "version": 3
   },
   "file_extension": ".py",
   "mimetype": "text/x-python",
   "name": "python",
   "nbconvert_exporter": "python",
   "pygments_lexer": "ipython3",
   "version": "3.5.2"
  },
  "toc": {
   "nav_menu": {},
   "number_sections": true,
   "sideBar": true,
   "skip_h1_title": false,
   "title_cell": "Table of Contents",
   "title_sidebar": "Contents",
   "toc_cell": false,
   "toc_position": {},
   "toc_section_display": true,
   "toc_window_display": false
  }
 },
 "nbformat": 4,
 "nbformat_minor": 1
}
