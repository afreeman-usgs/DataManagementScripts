{
 "cells": [
  {
   "cell_type": "markdown",
   "metadata": {},
   "source": [
    "# A script to remotely download NAIP imagery  "
   ]
  },
  {
   "cell_type": "code",
   "execution_count": null,
   "metadata": {},
   "outputs": [],
   "source": [
    "import re\n",
    "import pandas as pd\n",
    "from selenium import webdriver\n",
    "from selenium.webdriver.chrome.options import Options\n",
    "from selenium.common.exceptions import NoSuchElementException, WebDriverException\n",
    "from selenium.webdriver.common.keys import Keys\n",
    "import time\n",
    "import os\n",
    "import shutil\n",
    "import glob\n",
    "from zipfile import ZipFile"
   ]
  },
  {
   "cell_type": "markdown",
   "metadata": {},
   "source": [
    "### Create a look-up dataframe pairing a county with it's NAIP identifier"
   ]
  },
  {
   "cell_type": "code",
   "execution_count": null,
   "metadata": {},
   "outputs": [],
   "source": [
    "# 's' is an exerpt from 'NAIP File Name.pdf' at https://nrcs.app.box.com/v/naip/file/168958604571\n",
    "s = \"NM001BERNALILLONM005CHAVESNM007COLFAXNM009CURRYNM011DE BACANM013DONA ANANM015EDDYNM017GRANTNM019GUADALUPENM021HARDINGNM023HIDALGONM025LEANM027LINCOLNNM029LUNANM033MORANM035OTERONM037QUAYNM039RIO ARRIBANM041ROOSEVELTNM043SANDOVALNM045SAN JUANNM047SAN MIGUELNM049SANTA FENM051SIERRANM053SOCORRONM055TAOSNM057TORRANCENM059UNIONNM061VALENCIA\"\n",
    "\n",
    "# Parse the string into a pandas DataFrame that will serve as a look-up table for downloading the imagery.\n",
    "nm_counties = s.split('NM')\n",
    "cty_list = []\n",
    "\n",
    "for county in nm_counties:\n",
    "    counties = re.split('(\\d+)', county)\n",
    "    cty_list.append(counties)\n",
    "\n",
    "#McKinley County is missing the NAIP File Name document, and so needs to be added to the dataframe separately:\n",
    "mckinley = ['','031', 'MCKINLEY']\n",
    "cty_list.append(mckinley)\n",
    "\n",
    "df = pd.DataFrame(sorted(cty_list), columns=[\"Index\", \"NAIP_ID\", \"County\"])\n",
    "df2 = df.iloc[1:]\n",
    "df2\n"
   ]
  },
  {
   "cell_type": "code",
   "execution_count": null,
   "metadata": {},
   "outputs": [],
   "source": [
    "#Counties of interest, split up by page\n",
    "counties_of_interest_page1 = [\"QUAY\", \"LINCOLN\", \"ROOSEVELT\", \"LEA\", \"SAN JUAN\", \"RIO ARRIBA\", \"SANDOVAL\", \"MCKINLEY\"]\n",
    "counties_of_interest_page2 = [\"EDDY\", \"CHAVES\", \"CURRY\", \"DE BACA\"]"
   ]
  },
  {
   "cell_type": "code",
   "execution_count": null,
   "metadata": {},
   "outputs": [],
   "source": [
    "#Select counties of interest out of the look-up dataframe and store in a new dataframe.\n",
    "sel_cty1 = df[df['County'].isin(counties_of_interest_page1)]\n",
    "sel_cty2 = df[df['County'].isin(counties_of_interest_page2)]\n",
    "\n",
    "sel_cty = sel_cty2.append(sel_cty1)\n",
    "sel_cty['County'].replace(' ', '_', regex=True,inplace=True)"
   ]
  },
  {
   "cell_type": "markdown",
   "metadata": {},
   "source": [
    "### Download the imagery"
   ]
  },
  {
   "cell_type": "code",
   "execution_count": null,
   "metadata": {},
   "outputs": [],
   "source": [
    "# A function that waits until a download is finished.\n",
    "def downloads_done():\n",
    "    for i in os.listdir(dl_loc):\n",
    "        if \".crdownload\" in i:\n",
    "            print(\"Downloading...\")\n",
    "            time.sleep(300)\n",
    "            downloads_done()"
   ]
  },
  {
   "cell_type": "code",
   "execution_count": null,
   "metadata": {},
   "outputs": [],
   "source": [
    "# A function that downloads imagery based on on lists.\n",
    "\n",
    "def dl_naip(county_list):\n",
    "    for id in county_list:\n",
    "        print(id)\n",
    "        try:\n",
    "            imagery = driver.find_element_by_link_text('ortho_1-1_1n_s_nm{}_2016_1.zip'.format(id))\n",
    "            imagery.click()\n",
    "\n",
    "        except WebDriverException:\n",
    "            \n",
    "            try:\n",
    "                imagery.send_keys(Keys.END)\n",
    "                time.sleep(5)\n",
    "                imagery.click()\n",
    "                \n",
    "            except NoSuchElementException:\n",
    "                self.driver.execute_script(\"return arguments[0].scrollIntoView(true);\", imagery)\n",
    "                time.sleep(5)\n",
    "                imagery.click()       \n",
    "\n",
    "        finally:\n",
    "            time.sleep(10)\n",
    "\n",
    "            download = driver.find_element_by_xpath('/html/body/div[1]/span/div/span/div/div[1]/div[2]/button/span/span')\n",
    "            download.click()\n",
    "\n",
    "            time.sleep(5)\n",
    "\n",
    "            driver.back()\n",
    "            downloads_done()"
   ]
  },
  {
   "cell_type": "code",
   "execution_count": null,
   "metadata": {},
   "outputs": [],
   "source": [
    "# Initialize webdriver\n",
    "site = \"https://nrcs.app.box.com/v/naip/folder/18143730559\"\n",
    "dl_loc = r'Y:\\NAIP\\NM_2016'\n",
    "options = Options()\n",
    "prefs = {'download.default_directory' : dl_loc, 'useAutomationExtension': False, 'forceDevToolsScreenshot': True,\n",
    "        'args': ['--disable-infobars', \"--disable-extensions\"]}\n",
    "options.add_experimental_option('prefs', prefs)\n",
    "driver = webdriver.Chrome(chrome_options=options)\n",
    "driver.get(site)"
   ]
  },
  {
   "cell_type": "code",
   "execution_count": null,
   "metadata": {
    "scrolled": true
   },
   "outputs": [],
   "source": [
    "# Download the imagery from page 1, then page 2 using selenium\n",
    "\n",
    "dl_naip(sel_cty1['NAIP_ID'])\n",
    "\n",
    "next_page = driver.find_element_by_xpath('/html/body/div[1]/span/div/main/div/div/div[2]/div[2]/div/a')\n",
    "next_page.send_keys(Keys.END)\n",
    "time.sleep(2)\n",
    "next_page.click()\n",
    "\n",
    "dl_naip(sel_cty2['NAIP_ID'])"
   ]
  },
  {
   "cell_type": "markdown",
   "metadata": {},
   "source": [
    "### Organize imagery on disk"
   ]
  },
  {
   "cell_type": "code",
   "execution_count": null,
   "metadata": {},
   "outputs": [],
   "source": [
    "# Create folders named after county\n",
    "cty_list = sel_cty['County'].tolist()\n",
    "cty_list\n",
    "\n",
    "for cty in cty_list:\n",
    "    cap = cty.title()\n",
    "    folder = os.mkdir(os.path.join(dl_loc, cap))"
   ]
  },
  {
   "cell_type": "code",
   "execution_count": null,
   "metadata": {},
   "outputs": [],
   "source": [
    "# Move downloaded imagery to the appropriate county folder\n",
    "zip_files = [z for z in os.listdir(dl_loc) if os.path.isfile(os.path.join(dl_loc, z))]\n",
    "    \n",
    "for row in sel_cty.iterrows():\n",
    "    Zip = [f for f in zip_files if (row[1][1]) in f]\n",
    "    zip_str = ' '.join(Zip)\n",
    "    zip_path = os.path.join(dl_loc, zip_str)\n",
    "    dest_path = os.path.join(dl_loc, (row[1][2].title()))\n",
    "    os.rename(zip_path, (dest_path + '\\\\' + Zip[0]))"
   ]
  },
  {
   "cell_type": "code",
   "execution_count": null,
   "metadata": {},
   "outputs": [],
   "source": [
    "# Unzip all imagery in the appropriate country folder\n",
    "\n",
    "for path, dir_list, file_list in os.walk(dl_loc):\n",
    "    for file_name in file_list:\n",
    "        if file_name.endswith(\".zip\"):\n",
    "            abs_file_path = os.path.join(path, file_name)\n",
    "\n",
    "            parent_path = os.path.split(abs_file_path)[0]\n",
    "            print(parent_path)\n",
    "\n",
    "            zip_obj = ZipFile(abs_file_path, 'r')\n",
    "            zip_obj.extractall(parent_path)\n",
    "            zip_obj.close()"
   ]
  },
  {
   "cell_type": "code",
   "execution_count": null,
   "metadata": {},
   "outputs": [],
   "source": [
    "# After confirming success, delete zip file.\n",
    "\n",
    "for path, dir_list, file_list in os.walk(dl_loc):\n",
    "    for file_name in file_list:\n",
    "        if file_name.endswith(\".zip\"):\n",
    "            abs_file_path = os.path.join(path, file_name)\n",
    "            os.remove(abs_file_path)"
   ]
  }
 ],
 "metadata": {
  "kernelspec": {
   "display_name": "Python 3",
   "language": "python",
   "name": "python3"
  },
  "language_info": {
   "codemirror_mode": {
    "name": "ipython",
    "version": 3
   },
   "file_extension": ".py",
   "mimetype": "text/x-python",
   "name": "python",
   "nbconvert_exporter": "python",
   "pygments_lexer": "ipython3",
   "version": "3.5.2"
  }
 },
 "nbformat": 4,
 "nbformat_minor": 2
}
